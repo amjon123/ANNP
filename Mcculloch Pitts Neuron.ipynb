{
 "cells": [
  {
   "cell_type": "code",
   "execution_count": 1,
   "id": "02be4d2e",
   "metadata": {},
   "outputs": [
    {
     "name": "stdout",
     "output_type": "stream",
     "text": [
      "x1: 0, x2: 0, ANDNOT: 1.0\n",
      "x1: 0, x2: 1, ANDNOT: 1.0\n",
      "x1: 1, x2: 0, ANDNOT: 1.0\n",
      "x1: 1, x2: 1, ANDNOT: 0.0\n"
     ]
    }
   ],
   "source": [
    "import numpy as np\n",
    "\n",
    "def mcculloch_pitts_neuron(weights, inputs, bias):\n",
    "  weighted_input = np.dot(weights, inputs) + bias\n",
    "  return 1.0 if weighted_input >= 0 else 0.0\n",
    "\n",
    "def andnot_neural_net(x1, x2):\n",
    "  weights = np.array([-1, -1])\n",
    "  bias = 1.0\n",
    "  inputs = np.array([x1, x2])\n",
    "  return mcculloch_pitts_neuron(weights, inputs, bias)\n",
    "\n",
    "x1 = [0, 0, 1, 1]\n",
    "x2 = [0, 1, 0, 1]\n",
    "\n",
    "for i in range(len(x1)):\n",
    "  print(\"x1: {}, x2: {}, ANDNOT: {}\".format(x1[i], x2[i], andnot_neural_net(x1[i], x2[i])))"
   ]
  },
  {
   "cell_type": "code",
   "execution_count": null,
   "id": "383e80b3",
   "metadata": {},
   "outputs": [],
   "source": []
  }
 ],
 "metadata": {
  "kernelspec": {
   "display_name": "Python 3 (ipykernel)",
   "language": "python",
   "name": "python3"
  },
  "language_info": {
   "codemirror_mode": {
    "name": "ipython",
    "version": 3
   },
   "file_extension": ".py",
   "mimetype": "text/x-python",
   "name": "python",
   "nbconvert_exporter": "python",
   "pygments_lexer": "ipython3",
   "version": "3.10.9"
  }
 },
 "nbformat": 4,
 "nbformat_minor": 5
}
