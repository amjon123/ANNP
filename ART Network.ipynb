{
 "cells": [
  {
   "cell_type": "code",
   "execution_count": 4,
   "id": "8f5ab00a",
   "metadata": {},
   "outputs": [
    {
     "name": "stdout",
     "output_type": "stream",
     "text": [
      "Prediction for [1, 1, 1, 0]: 0\n",
      "Prediction for [0, 1, 1, 0]: 0\n",
      "Prediction for [0, 0, 1, 0]: 0\n"
     ]
    }
   ],
   "source": [
    "import numpy as np\n",
    "\n",
    "class ARTNetwork:\n",
    "    def __init__(self, num_categories, vigilance):\n",
    "        self.num_categories = num_categories\n",
    "        self.vigilance = vigilance\n",
    "        self.categories = []\n",
    " \n",
    "    def _initialize_categories(self, input_vec):\n",
    "        self.categories.append(input_vec)\n",
    " \n",
    "    def _compute_similarity(self, input_vec, category):\n",
    "        return np.dot(input_vec, category) / np.sum(input_vec)\n",
    " \n",
    "    def _get_matching_category(self, input_vec):\n",
    "        for category in self.categories:\n",
    "            if self._compute_similarity(input_vec, category) >= self.vigilance:\n",
    "                return category\n",
    "        return None\n",
    " \n",
    "    def _get_complementary_category(self, input_vec):\n",
    "        for category in self.categories:\n",
    "            if np.all(category + input_vec <= 1):\n",
    "                return category\n",
    "        return None\n",
    " \n",
    "    def _update_category(self, input_vec, category):\n",
    "        return np.maximum(input_vec, category)\n",
    "\n",
    "    def _create_new_category(self, input_vec, complementary_category):\n",
    "        return np.maximum(input_vec, complementary_category)\n",
    " \n",
    "    def learn(self, input_vec):\n",
    "        if not self.categories:\n",
    "            self._initialize_categories(input_vec)\n",
    "        else:\n",
    "            matching_category = self._get_matching_category(input_vec)\n",
    "            if matching_category is not None:\n",
    "                self.categories.remove(matching_category)\n",
    "                self.categories.append(self._update_category(input_vec, matching_category))\n",
    "            else:\n",
    "                complementary_category = self._get_complementary_category(input_vec)\n",
    "                if complementary_category is not None:\n",
    "                    self.categories.append(self._create_new_category(input_vec, complementary_category))\n",
    "                else:\n",
    "                    self.categories.append(input_vec)\n",
    " \n",
    "    def predict(self, input_vec):\n",
    "        matching_category = self._get_matching_category(input_vec)\n",
    "        if matching_category is not None:\n",
    "            return self.categories.index(matching_category)\n",
    "        else:\n",
    "            return None\n",
    "\n",
    "# Define the input data\n",
    "X = np.array([[1, 0, 0, 1],\n",
    "              [1, 1, 0, 0],\n",
    "              [0, 0, 1, 1]])\n",
    "\n",
    "# Initialize the ART network\n",
    "art = ARTNetwork(num_categories=2, vigilance=0.5)\n",
    "\n",
    "# Train the ART network\n",
    "for input_vec in X:\n",
    "    art.learn(input_vec)\n",
    "\n",
    "# Test the ART network\n",
    "print(\"Prediction for [1, 1, 1, 0]:\", art.predict(np.array([1, 1, 1, 0])))\n",
    "print(\"Prediction for [0, 1, 1, 0]:\", art.predict(np.array([0, 1, 1, 0])))\n",
    "print(\"Prediction for [0, 0, 1, 0]:\", art.predict(np.array([0, 0, 1, 0])))"
   ]
  }
 ],
 "metadata": {
  "kernelspec": {
   "display_name": "Python 3 (ipykernel)",
   "language": "python",
   "name": "python3"
  },
  "language_info": {
   "codemirror_mode": {
    "name": "ipython",
    "version": 3
   },
   "file_extension": ".py",
   "mimetype": "text/x-python",
   "name": "python",
   "nbconvert_exporter": "python",
   "pygments_lexer": "ipython3",
   "version": "3.10.9"
  }
 },
 "nbformat": 4,
 "nbformat_minor": 5
}
