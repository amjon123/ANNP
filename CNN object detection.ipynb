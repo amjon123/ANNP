{
 "cells": [
  {
   "cell_type": "code",
   "execution_count": 1,
   "id": "90382e76",
   "metadata": {},
   "outputs": [
    {
     "name": "stdout",
     "output_type": "stream",
     "text": [
      "Epoch 1/10\n",
      "782/782 [==============================] - 92s 114ms/step - loss: 0.2751 - accuracy: 0.9017 - precision: 0.6920 - recall: 0.0310 - val_loss: 0.2523 - val_accuracy: 0.9092 - val_precision: 0.6237 - val_recall: 0.2320\n",
      "Epoch 2/10\n",
      "782/782 [==============================] - 74s 95ms/step - loss: 0.2262 - accuracy: 0.9151 - precision: 0.6983 - recall: 0.2662 - val_loss: 0.2205 - val_accuracy: 0.9145 - val_precision: 0.7509 - val_recall: 0.2170\n",
      "Epoch 3/10\n",
      "782/782 [==============================] - 81s 104ms/step - loss: 0.2007 - accuracy: 0.9244 - precision: 0.7276 - recall: 0.3894 - val_loss: 0.2144 - val_accuracy: 0.9180 - val_precision: 0.8237 - val_recall: 0.2290\n",
      "Epoch 4/10\n",
      "782/782 [==============================] - 70s 90ms/step - loss: 0.1839 - accuracy: 0.9312 - precision: 0.7534 - recall: 0.4632 - val_loss: 0.1954 - val_accuracy: 0.9261 - val_precision: 0.8129 - val_recall: 0.3390\n",
      "Epoch 5/10\n",
      "782/782 [==============================] - 98s 125ms/step - loss: 0.1657 - accuracy: 0.9373 - precision: 0.7728 - recall: 0.5280 - val_loss: 0.1861 - val_accuracy: 0.9328 - val_precision: 0.7808 - val_recall: 0.4560\n",
      "Epoch 6/10\n",
      "782/782 [==============================] - 62s 80ms/step - loss: 0.1492 - accuracy: 0.9426 - precision: 0.7905 - recall: 0.5802 - val_loss: 0.1875 - val_accuracy: 0.9299 - val_precision: 0.6843 - val_recall: 0.5550\n",
      "Epoch 7/10\n",
      "782/782 [==============================] - 67s 85ms/step - loss: 0.1346 - accuracy: 0.9484 - precision: 0.8104 - recall: 0.6318 - val_loss: 0.1980 - val_accuracy: 0.9323 - val_precision: 0.7996 - val_recall: 0.4310\n",
      "Epoch 8/10\n",
      "782/782 [==============================] - 67s 86ms/step - loss: 0.1162 - accuracy: 0.9553 - precision: 0.8327 - recall: 0.6916 - val_loss: 0.1960 - val_accuracy: 0.9315 - val_precision: 0.7032 - val_recall: 0.5450\n",
      "Epoch 9/10\n",
      "782/782 [==============================] - 65s 83ms/step - loss: 0.0959 - accuracy: 0.9633 - precision: 0.8629 - recall: 0.7528 - val_loss: 0.2168 - val_accuracy: 0.9330 - val_precision: 0.7570 - val_recall: 0.4860\n",
      "Epoch 10/10\n",
      "782/782 [==============================] - 77s 98ms/step - loss: 0.0806 - accuracy: 0.9685 - precision: 0.8763 - recall: 0.7980 - val_loss: 0.2359 - val_accuracy: 0.9312 - val_precision: 0.7191 - val_recall: 0.5120\n",
      "157/157 [==============================] - 2s 15ms/step - loss: 0.2359 - accuracy: 0.9312 - precision: 0.7191 - recall: 0.5120\n",
      "Test loss, Test accuracy, Test precision, Test recall: [0.23590382933616638, 0.9312000274658203, 0.7191011309623718, 0.5120000243186951]\n"
     ]
    }
   ],
   "source": [
    "import numpy as np\n",
    "import tensorflow as tf\n",
    "from tensorflow.keras import Model\n",
    "from tensorflow.keras.layers import Conv2D, MaxPooling2D, Dense, Flatten, Input\n",
    "\n",
    "# Define the CNN model\n",
    "def create_model():\n",
    "    input_tensor = Input(shape=(32, 32, 3))\n",
    "    x = Conv2D(32, (3, 3), activation='relu', padding='same')(input_tensor)\n",
    "    x = MaxPooling2D((2, 2))(x)\n",
    "    x = Conv2D(64, (3, 3), activation='relu', padding='same')(x)\n",
    "    x = MaxPooling2D((2, 2))(x)\n",
    "    x = Conv2D(128, (3, 3), activation='relu', padding='same')(x)\n",
    "    x = MaxPooling2D((2, 2))(x)\n",
    "    x = Flatten()(x)\n",
    "    x = Dense(256, activation='relu')(x)\n",
    "    x = Dense(1, activation='sigmoid')(x)\n",
    "    model = Model(inputs=input_tensor, outputs=x)\n",
    "    return model\n",
    "\n",
    "# Load the dataset\n",
    "(X_train, y_train), (X_test, y_test) = tf.keras.datasets.cifar10.load_data()\n",
    "\n",
    "# Normalize the images\n",
    "X_train = X_train / 255.0\n",
    "X_test = X_test / 255.0\n",
    "\n",
    "# Define the object detection Labels\n",
    "y_train = (y_train == 2).astype(int)\n",
    "y_test = (y_test == 2).astype(int)\n",
    "\n",
    "# Create the CNN model\n",
    "model = create_model()\n",
    "\n",
    "# Compile the model\n",
    "model.compile(optimizer='adam', loss='binary_crossentropy', metrics=['accuracy', tf.keras.metrics.Precision(), tf.keras.metrics.Recall()])\n",
    "\n",
    "# Train the model\n",
    "model.fit(X_train, y_train, epochs=10, batch_size=64, validation_data=(X_test, y_test))\n",
    "\n",
    "# Evaluate the model\n",
    "results = model.evaluate(X_test, y_test, batch_size=64)\n",
    "print(\"Test loss, Test accuracy, Test precision, Test recall:\", results)"
   ]
  },
  {
   "cell_type": "code",
   "execution_count": 10,
   "id": "c8cdc6bb",
   "metadata": {},
   "outputs": [
    {
     "name": "stdout",
     "output_type": "stream",
     "text": [
      "1/1 [==============================] - 0s 16ms/step\n",
      "[[6.7718005e-08]]\n"
     ]
    }
   ],
   "source": [
    "import cv2\n",
    "img = cv2.imread(r\"C:\\Users\\Omkar\\Desktop\\1.jpeg\")\n",
    "img = cv2.resize(img, (32, 32))\n",
    "img = img / 255.0\n",
    "img = img.reshape((1, 32, 32, 3))\n",
    "prediction = model.predict(img)\n",
    "print(prediction)"
   ]
  },
  {
   "cell_type": "code",
   "execution_count": null,
   "id": "b51dae35",
   "metadata": {},
   "outputs": [],
   "source": []
  }
 ],
 "metadata": {
  "kernelspec": {
   "display_name": "Python 3 (ipykernel)",
   "language": "python",
   "name": "python3"
  },
  "language_info": {
   "codemirror_mode": {
    "name": "ipython",
    "version": 3
   },
   "file_extension": ".py",
   "mimetype": "text/x-python",
   "name": "python",
   "nbconvert_exporter": "python",
   "pygments_lexer": "ipython3",
   "version": "3.10.9"
  }
 },
 "nbformat": 4,
 "nbformat_minor": 5
}
